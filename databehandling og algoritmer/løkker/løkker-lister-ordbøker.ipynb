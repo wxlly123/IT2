{
 "cells": [
  {
   "cell_type": "code",
   "execution_count": 2,
   "metadata": {},
   "outputs": [
    {
     "name": "stdout",
     "output_type": "stream",
     "text": [
      "mattelærer\n",
      "nøkler\n",
      "navn David Ravi\n",
      "alder 43\n",
      "yrke mattelærer\n",
      "favorittaktivitet gaming\n",
      "favorittdrikk databrus\n",
      "navn David Ravi\n",
      "alder 43\n",
      "yrke mattelærer\n",
      "favorittaktivitet gaming\n",
      "favorittdrikk databrus\n"
     ]
    }
   ],
   "source": [
    "ravi = {\n",
    "    'navn': 'David Ravi',\n",
    "    'alder': 43,\n",
    "    'yrke': 'mattelærer',\n",
    "    'favorittaktivitet': 'gaming',\n",
    "    'favorittdrikk': 'databrus'\n",
    "}\n",
    "\n",
    "print(ravi['yrke'])\n",
    "\n",
    "print('nøkler')\n",
    "\n",
    "for nøkkel in ravi:\n",
    "    print(nøkkel,ravi[nøkkel])\n",
    "\n",
    "for nøkkel, verdi in ravi.items():\n",
    "    print(nøkkel, verdi)"
   ]
  },
  {
   "cell_type": "code",
   "execution_count": 1,
   "metadata": {},
   "outputs": [
    {
     "name": "stdout",
     "output_type": "stream",
     "text": [
      "Leonardo DiCaprio(48)\n"
     ]
    }
   ],
   "source": [
    "skuespillere = [\n",
    "    {\"navn\": \"Tom Hanks\", \"alder\": 66},\n",
    "    {\"navn\": \"Meryl Streep\", \"alder\": 73},\n",
    "    {\"navn\": \"Leonardo DiCaprio\", \"alder\": 48},\n",
    "    {\"navn\": \"Julia Roberts\", \"alder\": 55},\n",
    "    {\"navn\": \"Denzel Washington\", \"alder\": 67},\n",
    "    {\"navn\": \"Nicole Kidman\", \"alder\": 55},\n",
    "    {\"navn\": \"Brad Pitt\", \"alder\": 59},\n",
    "    {\"navn\": \"Charlize Theron\", \"alder\": 47},\n",
    "    {\"navn\": \"Johnny Depp\", \"alder\": 59},\n",
    "    {\"navn\": \"Emma Stone\", \"alder\": 34},\n",
    "]\n",
    "\n",
    "favoritt = skuespillere[2]\n",
    "\n",
    "print(f\"{favoritt['navn']}({favoritt['alder']})\")"
   ]
  },
  {
   "cell_type": "code",
   "execution_count": 3,
   "metadata": {},
   "outputs": [
    {
     "name": "stdout",
     "output_type": "stream",
     "text": [
      "Tom Hanks 66\n",
      "Meryl Streep 73\n",
      "Leonardo DiCaprio 48\n",
      "Julia Roberts 55\n",
      "Denzel Washington 67\n",
      "Nicole Kidman 55\n",
      "Brad Pitt 59\n",
      "Charlize Theron 47\n",
      "Johnny Depp 59\n",
      "Emma Stone 34\n"
     ]
    }
   ],
   "source": [
    "for s in skuespillere:\n",
    "    print(s['navn'], s['alder'])"
   ]
  },
  {
   "cell_type": "code",
   "execution_count": null,
   "metadata": {},
   "outputs": [],
   "source": []
  }
 ],
 "metadata": {
  "kernelspec": {
   "display_name": "Python 3",
   "language": "python",
   "name": "python3"
  },
  "language_info": {
   "codemirror_mode": {
    "name": "ipython",
    "version": 3
   },
   "file_extension": ".py",
   "mimetype": "text/x-python",
   "name": "python",
   "nbconvert_exporter": "python",
   "pygments_lexer": "ipython3",
   "version": "3.9.6"
  }
 },
 "nbformat": 4,
 "nbformat_minor": 2
}
