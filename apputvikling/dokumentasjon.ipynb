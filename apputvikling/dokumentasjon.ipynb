{
 "cells": [
  {
   "cell_type": "code",
   "execution_count": 3,
   "metadata": {},
   "outputs": [
    {
     "name": "stdout",
     "output_type": "stream",
     "text": [
      "Hallo, verden!\n"
     ]
    }
   ],
   "source": [
    "print(\"Hallo, verden!\")"
   ]
  },
  {
   "cell_type": "markdown",
   "metadata": {},
   "source": [
    "# Dokumentasjon og kommentarer\n",
    "\n",
    "## Plan\n",
    "\n",
    "1. Hvorfor kommentere/dokumentere\n",
    "2. Kommentarer vs. dokumentasjon\n",
    "3. Komentarer\n",
    "   1. Hvordan?\n",
    "   2. Trenger vi egentlig kommentarer\n",
    "4. Type hinting\n",
    "5. Docstrings\n",
    "\n",
    "\n",
    "## Oppgaver \n",
    "* "
   ]
  },
  {
   "cell_type": "markdown",
   "metadata": {},
   "source": []
  },
  {
   "cell_type": "markdown",
   "metadata": {},
   "source": [
    "## Hvorfor kommentere/dokumentere kode?\n",
    "\n",
    "\"Code is often more read than written\" - Guido von Rossum (skaperen av python)\n"
   ]
  },
  {
   "cell_type": "markdown",
   "metadata": {},
   "source": [
    "## Kommentarer"
   ]
  },
  {
   "cell_type": "code",
   "execution_count": null,
   "metadata": {},
   "outputs": [],
   "source": [
    "# Kommentarer i python lages med # (hashtag)\n",
    "'''Dette er også en kommentar'''\n",
    "'''Kommentarer med tre anførselstegn \n",
    "kan gå over flere linjer'''\n",
    "\"\"\"Dette er også en kommentar\"\"\"\n",
    "\n",
    "# En kommentar skal ikke være lenger en 72 tegn"
   ]
  },
  {
   "cell_type": "code",
   "execution_count": 4,
   "metadata": {},
   "outputs": [],
   "source": [
    "def ta_på_regntøy(vær):\n",
    "    if vær == \"regn\":\n",
    "        return True\n",
    "    else:\n",
    "        return False\n",
    "    # Trenger ikke kommentarer\n",
    "    \n",
    "def tpr(v):\n",
    "    # Sjekker om det regner\n",
    "    if v == \"regn\":\n",
    "        # Returnerer True dersom det regner\n",
    "        return True\n",
    "    else:\n",
    "        # Returnerer False dersom det IKKE regner\n",
    "        return False\n",
    "    # Trenger kommentarer    "
   ]
  },
  {
   "cell_type": "markdown",
   "metadata": {},
   "source": [
    "## 3.17 - Kommentarer\n",
    "1. Kopier koden under inn i en .py-fil i VS Code\n",
    "2. Hva gjør koden? Skriv svaret som en kommentar øverst i filen.\n",
    "3. Legg på kommentarer slik at koden blir forståelig for andre.\n",
    "4. Endre variabelnavn i koden slik at den blir lettere å forstå uten kommentarer.\n",
    "5. Se over den endrede koden, er den lett å forstå? Hvis ikke, legg på nødvendige kommentarer."
   ]
  },
  {
   "cell_type": "code",
   "execution_count": 8,
   "metadata": {},
   "outputs": [
    {
     "name": "stdout",
     "output_type": "stream",
     "text": [
      "Arealet er 6.0 cm^2\n"
     ]
    }
   ],
   "source": [
    "# 2. Hva gjør koden?\n",
    "# TODO svar på oppgave 2 her\n",
    "# Koden regner ut arealet av en trekant\n",
    " \n",
    "# 3. Legg på kommentarer slik at koden blir forståelig for andre\n",
    "# Definerer grunnlinjen i flyttall (desimaltall)\n",
    "grunnlinje = float(input(\"Grunnlinje (cm): \"))\n",
    "# Definerer høyden i flyttall( desimaltall)\n",
    "høyde = float(input(\"Høyde (cm): \"))\n",
    " \n",
    "# Regner ut arealet av en trekant \n",
    "areal = grunnlinje * høyde / 2 \n",
    "# Printer arealet med en liten tekst\n",
    "print(f\"Arealet er {areal} cm^2\")\n",
    " \n",
    "## ------\n",
    "# 4. Fjern alle kommentarer og endre koden slik at den blir enklere å forstå\n",
    "# 5. Se over koden og legg på eventuelle nødvendige kommentarer\n",
    " \n",
    "# TODO Lim inn koden på nytt her"
   ]
  },
  {
   "cell_type": "markdown",
   "metadata": {},
   "source": [
    "## 3.18 - Kommentarer\n",
    "1. Kopier koden under inn i en .py-fil i VS Code\n",
    "2. Hva gjør koden? Skriv svaret som en kommentar øverst i filen.\n",
    "3. Legg på kommentarer slik at koden blir forståelig for andre.\n",
    "4. Endre variabelnavn i koden slik at den blir lettere å forstå uten kommentarer.\n",
    "5. Se over den endrede koden, er den lett å forstå? Hvis ikke, legg på nødvendige kommentarer."
   ]
  },
  {
   "cell_type": "code",
   "execution_count": 11,
   "metadata": {},
   "outputs": [
    {
     "name": "stdout",
     "output_type": "stream",
     "text": [
      "2\n"
     ]
    }
   ],
   "source": [
    "# 2. Hva gjør koden?\n",
    "# TODO svar på oppgave 2 her\n",
    "# koden finner ut hvilke land sjåførene kommer fra, og hvor mange som kommer fra hvert land\n",
    " \n",
    "# 3. Legg på kommentarer slik at koden blir forståelig for andre\n",
    "# Liste med ordbøker for hver f1 sjåfør\n",
    "f1 = [\n",
    "    {\"navn\": \"Max Verstappen\", \"nasjonalitet\": \"nederlandsk\", \"team\": \"Red Bull Racing\", \"bilnummer\": 1},\n",
    "    {\"navn\": \"Sergio Perez\", \"nasjonalitet\": \"meksikansk\", \"team\": \"Red Bull Racing\", \"bilnummer\": 11},\n",
    "    {\"navn\": \"Lewis Hamilton\", \"nasjonalitet\": \"britisk\", \"team\": \"Mercedes\", \"bilnummer\": 44},\n",
    "    {\"navn\": \"George Russell\", \"nasjonalitet\": \"britisk\", \"team\": \"Mercedes\", \"bilnummer\": 63},\n",
    "    {\"navn\": \"Charles Leclerc\", \"nasjonalitet\": \"monegaskisk\", \"team\": \"Ferrari\", \"bilnummer\": 16},\n",
    "    {\"navn\": \"Kevin Magnussen\", \"nasjonalitet\": \"dansk\", \"team\": \"Haas F1 Team\", \"bilnummer\": 20},\n",
    "    {\"navn\": \"Nico Hulkenberg\", \"nasjonalitet\": \"tysk\", \"team\": \"Haas F1 Team\", \"bilnummer\": 27}\n",
    "] \n",
    " \n",
    "# Oppretter en tom ordbok\n",
    "antall_sjåfører = {}\n",
    " \n",
    "# For alle sjåfører i listen f1\n",
    "for sjåfører in f1:\n",
    "  # Hvis sjåføren sitt land ikke er i lista legg det til         \n",
    "  if sjåfører['nasjonalitet'] not in antall_sjåfører:\n",
    "    antall_sjåfører[sjåfører['nasjonalitet']] = 1\n",
    "  else:\n",
    "    # Hvis sjåføren sitt er i lista øk antall sjåfør fra landet\n",
    "    antall_sjåfører[sjåfører['nasjonalitet']] += 1\n",
    "\n",
    "# Printer antall britiske sjåfører\n",
    "print(antall_sjåfører[\"britisk\"])\n",
    "\n",
    "\n",
    " \n",
    "## ------\n",
    "# 4. Fjern alle kommentarer og endre koden slik at den blir enklere å forstå\n",
    "# 5. Se over koden, og legg på eventuelle kommentarer\n",
    " \n",
    "# TODO Lim inn koden på nytt under her, og endre koden:\n",
    " "
   ]
  },
  {
   "cell_type": "markdown",
   "metadata": {},
   "source": [
    "## Type hinting og docstring\n",
    "\n",
    "Type hinting og docstring er spesielle kommentarer som brukes for å dokumentere kode. \n",
    "Dokumentasjonen av kode lages for å hjelpe utviklere å bruke koden. \n",
    "For eksmpel dokumentasjon som er laget for å forklare random.randint-fuksjonen er laget for å forklarer hvordan utvikleren skal bruke funksjonen.\n",
    "\n",
    "Vanlige kommentarer er laget for de som skal endre/forbedre koden, imens dokumentasjon er for de som skal bruke koden. "
   ]
  },
  {
   "cell_type": "code",
   "execution_count": 12,
   "metadata": {},
   "outputs": [
    {
     "data": {
      "text/plain": [
       "25.0"
      ]
     },
     "execution_count": 12,
     "metadata": {},
     "output_type": "execute_result"
    }
   ],
   "source": [
    "# Type hinting\n",
    "\n",
    "def areal_trekant(grunnlinje: int, høyde: int):\n",
    "    return grunnlinje * høyde / 2\n",
    "\n",
    "areal_trekant(10, 5)\n",
    "areal_trekant()"
   ]
  },
  {
   "cell_type": "code",
   "execution_count": null,
   "metadata": {},
   "outputs": [],
   "source": [
    "# Docstring\n",
    "\n",
    "def areal_trekant(grunnlinje: float, høyde: float) -> float:\n",
    "    \"\"\"En funksjon som regner ut arealet av trekanter\"\"\"\n",
    "    return grunnlinje * høyde / 2\n",
    "\n",
    "areal_trekant()\n"
   ]
  }
 ],
 "metadata": {
  "kernelspec": {
   "display_name": "Python 3",
   "language": "python",
   "name": "python3"
  },
  "language_info": {
   "codemirror_mode": {
    "name": "ipython",
    "version": 3
   },
   "file_extension": ".py",
   "mimetype": "text/x-python",
   "name": "python",
   "nbconvert_exporter": "python",
   "pygments_lexer": "ipython3",
   "version": "3.12.0"
  }
 },
 "nbformat": 4,
 "nbformat_minor": 2
}
