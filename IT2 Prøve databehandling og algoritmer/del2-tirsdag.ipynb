{
 "cells": [
  {
   "cell_type": "markdown",
   "metadata": {},
   "source": [
    "## Oppgave 3\n",
    "\n",
    "Listen `biler` inneholder informasjon om de 10 mest solgte bilene i Norge i 2023.\n",
    "\n",
    "> OBS! Kjør kodeblokken under før du begynner å programmere!\n",
    "\n",
    "1. Bruk listen og lag en fin utskrift med informasjon om Tesla Model Y\n",
    "2. Bruk listen og lag en fin utskrift med informasjon om alle bilene på topplisten\n",
    "3. Av bilene som er på topplisten hvor mange solgte biler er av merke Toyota?\n",
    "4. Lag en ordbok som teller antall solgte biler for hvert bilmerke på topplisten\n",
    "5. Tegn et stolpediagram som viser antall solgte biler på topplisten gruppert etter bilmerke"
   ]
  },
  {
   "cell_type": "code",
   "execution_count": 1,
   "metadata": {},
   "outputs": [],
   "source": [
    "biler =  [\n",
    "    {\"bilmerke\": \"Tesla\", \"modell\": \"Model Y\", \"land\": \"USA\", \"antall_solgte\": 23088, \"andel_solgte\": 18.2},\n",
    "    {\"bilmerke\": \"Volkswagen\", \"modell\": \"ID.4\", \"land\": \"Tyskland\", \"antall_solgte\": 6614, \"andel_solgte\": 5.2},\n",
    "    {\"bilmerke\": \"Skoda\", \"modell\": \"Enyaq\", \"land\": \"Tsjekkia\", \"antall_solgte\": 5740, \"andel_solgte\": 4.5},\n",
    "    {\"bilmerke\": \"Toyota\", \"modell\": \"bZ4X\", \"land\": \"Japan\", \"antall_solgte\": 5395, \"andel_solgte\": 4.2},\n",
    "    {\"bilmerke\": \"Volvo\", \"modell\": \"XC40\", \"land\": \"Sverige\", \"antall_solgte\": 5025, \"andel_solgte\": 4.0},\n",
    "    {\"bilmerke\": \"Ford\", \"modell\": \"Mustang Mach-E\", \"land\": \"USA\", \"antall_solgte\": 3792, \"andel_solgte\": 3.0},\n",
    "    {\"bilmerke\": \"Toyota\", \"modell\": \"Yaris\", \"land\": \"Japan\", \"antall_solgte\": 3582, \"andel_solgte\": 2.8},\n",
    "    {\"bilmerke\": \"Toyota\", \"modell\": \"RAV4\", \"land\": \"Japan\", \"antall_solgte\": 3457, \"andel_solgte\": 2.7},\n",
    "    {\"bilmerke\": \"Volkswagen\", \"modell\": \"ID.3\", \"land\": \"Tyskland\", \"antall_solgte\": 3141, \"andel_solgte\": 2.5}\n",
    "]\n",
    "# Kjør denne kodeblokken før du begynner! (shift + enter) / (Trykk på play)"
   ]
  },
  {
   "cell_type": "code",
   "execution_count": 9,
   "metadata": {},
   "outputs": [
    {
     "name": "stdout",
     "output_type": "stream",
     "text": [
      "Bilen er en Tesla Model Y fra USA og har solgt 23088 stk, som er en andel på 18.2\n"
     ]
    }
   ],
   "source": [
    "# 1. Bruk ordboken og lag en fin utskrift med informasjon om Tesla Model Y\n",
    "bil_1 = biler[0]\n",
    "bilmerke_1 = bil_1['bilmerke']\n",
    "modell_1 = bil_1['modell']\n",
    "land_1 = bil_1['land']\n",
    "antall_solgte1 = bil_1['antall_solgte']\n",
    "andel_solgte1 = bil_1[\"andel_solgte\"]\n",
    "print('Bilen er en', bilmerke_1, modell_1, 'fra', land_1, 'og har solgt', antall_solgte1, 'stk, som er en andel på', andel_solgte1)"
   ]
  },
  {
   "cell_type": "code",
   "execution_count": 11,
   "metadata": {},
   "outputs": [
    {
     "name": "stdout",
     "output_type": "stream",
     "text": [
      "Bilen er en Tesla Model Y fra USA og har solgt 23088 stk, som er en andel på 18.2\n",
      "Bilen er en Volkswagen ID.4 fra Tyskland og har solgt 6614 stk, som er en andel på 5.2\n",
      "Bilen er en Skoda Enyaq fra Tsjekkia og har solgt 5740 stk, som er en andel på 4.5\n",
      "Bilen er en Toyota bZ4X fra Japan og har solgt 5395 stk, som er en andel på 4.2\n",
      "Bilen er en Volvo XC40 fra Sverige og har solgt 5025 stk, som er en andel på 4.0\n",
      "Bilen er en Ford Mustang Mach-E fra USA og har solgt 3792 stk, som er en andel på 3.0\n",
      "Bilen er en Toyota Yaris fra Japan og har solgt 3582 stk, som er en andel på 2.8\n",
      "Bilen er en Toyota RAV4 fra Japan og har solgt 3457 stk, som er en andel på 2.7\n",
      "Bilen er en Volkswagen ID.3 fra Tyskland og har solgt 3141 stk, som er en andel på 2.5\n"
     ]
    }
   ],
   "source": [
    "# 2. Bruk listen og lag en fin utskrift med informasjon om alle bilene på topplisten\n",
    "for bil in biler:\n",
    "    bilmerke = bil['bilmerke']\n",
    "    modell = bil['modell']\n",
    "    land = bil['land']\n",
    "    antall_solgte = bil['antall_solgte']\n",
    "    andel_solgte = bil[\"andel_solgte\"]\n",
    "    print('Bilen er en', bilmerke, modell, 'fra', land, 'og har solgt', antall_solgte, 'stk, som er en andel på', andel_solgte)"
   ]
  },
  {
   "cell_type": "code",
   "execution_count": 47,
   "metadata": {},
   "outputs": [
    {
     "name": "stdout",
     "output_type": "stream",
     "text": [
      "Toyota har solgt 12434 biler totalt\n"
     ]
    }
   ],
   "source": [
    "# 3. Av bilene som er på topplisten hvor mange solgte biler var av merke Toyota?\n",
    "antall = 0\n",
    "for bil in biler:\n",
    "    if bil['bilmerke'] == \"Toyota\":\n",
    "        antall += bil['antall_solgte']\n",
    "\n",
    "print('Toyota har solgt', antall, 'biler totalt')\n"
   ]
  },
  {
   "cell_type": "code",
   "execution_count": 43,
   "metadata": {},
   "outputs": [
    {
     "data": {
      "text/plain": [
       "{'Tesla': 23088,\n",
       " 'Volkswagen': 9755,\n",
       " 'Skoda': 5740,\n",
       " 'Toyota': 12434,\n",
       " 'Volvo': 5025,\n",
       " 'Ford': 3792}"
      ]
     },
     "execution_count": 43,
     "metadata": {},
     "output_type": "execute_result"
    }
   ],
   "source": [
    "# 4. Lag en ordbok som teller antall solgte biler for hvert bilmerke på topplisten\n",
    "solgt_antall = {}\n",
    "\n",
    "for bil in biler:\n",
    "    if bil['bilmerke'] not in solgt_antall:\n",
    "        solgt_antall[bil['bilmerke']] = int(bil['antall_solgte'])\n",
    "    else:\n",
    "        solgt_antall[bil['bilmerke']] += int(bil['antall_solgte'])\n",
    "        \n",
    "solgt_antall"
   ]
  },
  {
   "cell_type": "code",
   "execution_count": 46,
   "metadata": {},
   "outputs": [
    {
     "data": {
      "text/plain": [
       "<BarContainer object of 6 artists>"
      ]
     },
     "execution_count": 46,
     "metadata": {},
     "output_type": "execute_result"
    },
    {
     "data": {
      "image/png": "[encoded data removed]",
      "text/plain": [
       "<Figure size 640x480 with 1 Axes>"
      ]
     },
     "metadata": {},
     "output_type": "display_data"
    }
   ],
   "source": [
    "# 5. Tegn et stolpediagram som viser antall solgte biler på topplisten gruppert etter bilmerke\n",
    "import matplotlib.pyplot as plt\n",
    "solgt_antall\n",
    "bilmerke = list(solgt_antall.keys())\n",
    "antall = list(solgt_antall.values())\n",
    "\n",
    "plt.bar(bilmerke, antall)\n"
   ]
  },
  {
   "cell_type": "markdown",
   "metadata": {},
   "source": [
    "## Oppgave 4\n",
    "\n",
    "1. Åpne filen oscar2024.json med python, og print ordboken til \"Actor in a Leading Role\" (den første prisen)\n",
    "2. Print alle de nominerte filmene\n",
    "3. Hvor mange nominasjoner har filmen \"Barbie\"\n",
    "4. Hvilken film har flest nominasjoner, hvor mange har den?\n",
    "5. Lag en oversikt som presenterer de ti filmene med flest nominasjoner og antall nominasjoner"
   ]
  },
  {
   "cell_type": "code",
   "execution_count": 148,
   "metadata": {},
   "outputs": [
    {
     "name": "stdout",
     "output_type": "stream",
     "text": [
      "{'name': 'Actor in a Leading Role', 'nominations': [{'name': 'Bradley Cooper', 'movie': 'Maestro'}, {'name': 'Colman Domingo', 'movie': 'Rustin'}, {'name': 'Paul Giamatti', 'movie': 'The Holdovers'}, {'name': 'Cillian Murphy', 'movie': 'Oppenheimer'}, {'name': 'Jeffrey Wright', 'movie': 'American Fiction'}]}\n"
     ]
    }
   ],
   "source": [
    "# 1. Åpne filen oscar2024.json med python og print ordboken til \"Actor in a Leading Role\"\n",
    "import json\n",
    "with open(\"oscar2024.json\") as fil:\n",
    "    data = json.load(fil)\n",
    "print(data[0])"
   ]
  },
  {
   "cell_type": "code",
   "execution_count": 133,
   "metadata": {},
   "outputs": [
    {
     "name": "stdout",
     "output_type": "stream",
     "text": [
      "Maestro\n",
      "Rustin\n",
      "The Holdovers\n",
      "Oppenheimer\n",
      "American Fiction\n",
      "American Fiction\n",
      "Killers of the Flower Moon\n",
      "Oppenheimer\n",
      "Barbie\n",
      "Poor Things\n",
      "Nyad\n",
      "Killers of the Flower Moon\n",
      "Anatomy of a Fall\n",
      "Maestro\n",
      "Poor Things\n",
      "Oppenheimer\n",
      "The Color Purple\n",
      "Barbie\n",
      "Nyad\n",
      "The Holdovers\n",
      "The Boy and the Heron\n",
      "Elemental\n",
      "Nimona\n",
      "Robot Dreams\n",
      "Spider-Man: Across the Spider-Verse\n",
      "El Conde\n",
      "Killers of the Flower Moon\n",
      "Maestro\n",
      "Oppenheimer\n",
      "Poor Things\n",
      "Barbie\n",
      "Killers of the Flower Moon\n",
      "Napoleon\n",
      "Oppenheimer\n",
      "Poor Things\n",
      "Anatomy of a Fall\n",
      "Killers of the Flower Moon\n",
      "Oppenheimer\n",
      "Poor Things\n",
      "The Zone of Interest\n",
      "Bobi Wine: The People's President\n",
      "Four Daughters\n",
      "To Kill a Tiger\n",
      "20 Days in Mariupol\n",
      "The ABCs of Book Banning\n",
      "The Barber of Little Rock\n",
      "Island in Between\n",
      "The Last Repair Shop\n",
      "Nǎi Nai & Wài Pó\n",
      "Anatomy of a Fall\n",
      "The Holdovers\n",
      "Killers of the Flower Moon\n",
      "Oppenheimer\n",
      "Poor Things\n",
      "Io Capitano\n",
      "Perfect Days\n",
      "Society of the Snow\n",
      "The Teachers' Lounge\n",
      "The Zone of Interest\n",
      "American Fiction\n",
      "Anatomy of a Fall\n",
      "Barbie\n",
      "The Holdovers\n",
      "Killers of the Flower Moon\n",
      "Maestro\n",
      "Oppenheimer\n",
      "Past Lives\n",
      "Poor Things\n",
      "The Zone of Interest\n",
      "Golda\n",
      "Maestro\n",
      "Oppenheimer\n",
      "Poor Things\n",
      "Society of the Snow\n",
      "American Fiction\n",
      "Indiana Jones and the Dial of Destiny\n",
      "Killers of the Flower Moon\n",
      "Oppenheimer\n",
      "Poor Things\n",
      "The Fire Inside\n",
      "I'm Just Ken\n",
      "It Never Went Away\n",
      "Wahzhazhe (A Song For My People)\n",
      "What Was I Made For?\n",
      "Barbie\n",
      "Killers of the Flower Moon\n",
      "Napoleon\n",
      "Oppenheimer\n",
      "Poor Things\n",
      "Letter to a Pig\n",
      "Ninety-Five Senses\n",
      "Our Uniform\n",
      "Pachyderme\n",
      "WAR IS OVER! Inspired by the Music of John & Yoko\n",
      "The After\n",
      "Invincible\n",
      "Knight of Fortune\n",
      "Red, White and Blue\n",
      "The Wonderful Story of Henry Sugar\n",
      "The Creator\n",
      "Maestro\n",
      "Mission: Impossible - Dead Reckoning Part One\n",
      "Oppenheimer\n",
      "The Zone of Interest\n",
      "The Creator\n",
      "Godzilla Minus One\n",
      "Guardians of the Galaxy Vol. 3\n",
      "Mission: Impossible - Dead Reckoning Part One\n",
      "Napoleon\n",
      "American Fiction\n",
      "Barbie\n",
      "Oppenheimer\n",
      "Poor Things\n",
      "The Zone of Interest\n",
      "Anatomy of a Fall\n",
      "The Holdovers\n",
      "Maestro\n",
      "May December\n",
      "Past Lives\n"
     ]
    }
   ],
   "source": [
    "# 2. Print alle filmene de nominerte filmene\n",
    "# >  Filmer som er nominert til flere priser kan printes flere ganger\n",
    "for tema in data:\n",
    "    nominerte = tema['nominations']\n",
    "    \n",
    "    for film in nominerte:\n",
    "        print(film['movie'])"
   ]
  },
  {
   "cell_type": "code",
   "execution_count": 164,
   "metadata": {},
   "outputs": [
    {
     "name": "stdout",
     "output_type": "stream",
     "text": [
      "6\n"
     ]
    }
   ],
   "source": [
    "# 3. Hvor mange nominasjoner har filmen \"Barbie\"\n",
    "antall = 0\n",
    "for tema in data:\n",
    "    nominerte = tema['nominations']\n",
    "    for film in nominerte:\n",
    "        if film['movie'] == \"Barbie\":\n",
    "            antall += 1\n",
    "    \n",
    "print(antall)\n"
   ]
  },
  {
   "cell_type": "code",
   "execution_count": 187,
   "metadata": {},
   "outputs": [
    {
     "name": "stdout",
     "output_type": "stream",
     "text": [
      "Filmen med flest nominasjoner er: [('Oppenheimer', 13)]\n"
     ]
    }
   ],
   "source": [
    "# 4. Hvilken film har flest nominasjoner, hvor mange har den?\n",
    "antall_nominasjoner = {}\n",
    "for tema in data:\n",
    "    nominerte = tema['nominations']\n",
    "    for film in nominerte:\n",
    "        if film[\"movie\"] not in antall_nominasjoner.keys():\n",
    "            antall_nominasjoner[film[\"movie\"]] = 1\n",
    "        else:\n",
    "            antall_nominasjoner[film[\"movie\"]] += 1\n",
    "\n",
    "antall_nominasjoner\n",
    "\n",
    "filmer_sortert = sorted(antall_nominasjoner.items(), key=lambda film:film[1], reverse = True)\n",
    "print(f\"Filmen med flest nominasjoner er: {filmer_sortert[:1]}\")\n"
   ]
  },
  {
   "cell_type": "code",
   "execution_count": 178,
   "metadata": {},
   "outputs": [
    {
     "name": "stdout",
     "output_type": "stream",
     "text": [
      "[('Oppenheimer', 13), ('Poor Things', 11), ('Killers of the Flower Moon', 9), ('Maestro', 7), ('Barbie', 6), ('The Holdovers', 5), ('American Fiction', 5), ('Anatomy of a Fall', 5), ('The Zone of Interest', 5), ('Napoleon', 3)]\n"
     ]
    }
   ],
   "source": [
    "# 5. Lag en utskrift som viser de ti filmene med flest nominasjoner og antall nominasjoner\n",
    "filmer_sortert = sorted(antall_nominasjoner.items(), key=lambda film:film[1], reverse = True)\n",
    "print(filmer_sortert[:10])"
   ]
  },
  {
   "cell_type": "code",
   "execution_count": null,
   "metadata": {},
   "outputs": [],
   "source": []
  }
 ],
 "metadata": {
  "kernelspec": {
   "display_name": "Python 3",
   "language": "python",
   "name": "python3"
  },
  "language_info": {
   "codemirror_mode": {
    "name": "ipython",
    "version": 3
   },
   "file_extension": ".py",
   "mimetype": "text/x-python",
   "name": "python",
   "nbconvert_exporter": "python",
   "pygments_lexer": "ipython3",
   "version": "3.9.6"
  }
 },
 "nbformat": 4,
 "nbformat_minor": 2
}
